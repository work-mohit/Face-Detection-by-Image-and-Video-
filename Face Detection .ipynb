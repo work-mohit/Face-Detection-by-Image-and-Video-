{
 "cells": [
  {
   "cell_type": "code",
   "execution_count": 17,
   "metadata": {},
   "outputs": [],
   "source": [
    "import cv2\n",
    "import numpy as np \n",
    "import matplotlib.pyplot as plt"
   ]
  },
  {
   "cell_type": "code",
   "execution_count": 18,
   "metadata": {},
   "outputs": [],
   "source": [
    "img = cv2.imread('WIN_20200121_22_37_51_Pro.jpg')"
   ]
  },
  {
   "cell_type": "code",
   "execution_count": 19,
   "metadata": {},
   "outputs": [],
   "source": [
    "face_classifier = cv2.CascadeClassifier('C://Users//Mohit//Anaconda3//envs//tf-gpu//Library//etc//haarcascades/haarcascade_frontalface_default.xml')\n",
    "eyes_classifier  = cv2.CascadeClassifier('C:\\\\Users\\\\Mohit\\\\Anaconda3\\\\envs\\\\tf-gpu\\\\Library\\\\etc\\\\haarcascades\\\\haarcascade_eye.xml')"
   ]
  },
  {
   "cell_type": "code",
   "execution_count": 20,
   "metadata": {},
   "outputs": [],
   "source": [
    "def face_detector (cascade,img):\n",
    "    img_copy = img.copy()\n",
    "    gray = cv2.cvtColor (img_copy, cv2.COLOR_BGR2GRAY)\n",
    "    face = cascade.detectMultiScale(gray, 1.1, 5)\n",
    "    \n",
    "    for (x, y, w, h) in face:\n",
    "        cv2.rectangle(img_copy, (x, y), (x + w, y + h), (255, 0, 0), 5)\n",
    "        \n",
    "    return img_copy"
   ]
  },
  {
   "cell_type": "code",
   "execution_count": 21,
   "metadata": {},
   "outputs": [],
   "source": [
    "def convertToRGB(img):\n",
    "    return cv2.cvtColor(img, cv2.COLOR_BGR2RGB)"
   ]
  },
  {
   "cell_type": "code",
   "execution_count": 22,
   "metadata": {},
   "outputs": [],
   "source": [
    "faces = face_detector(eyes_classifier, img)"
   ]
  },
  {
   "cell_type": "code",
   "execution_count": null,
   "metadata": {},
   "outputs": [],
   "source": [
    "cv2.imshow('img',convertToRGB(faces))\n",
    "cv2.waitKey(0)\n",
    "cv2.destroyAllWindows()"
   ]
  },
  {
   "cell_type": "code",
   "execution_count": null,
   "metadata": {},
   "outputs": [],
   "source": []
  }
 ],
 "metadata": {
  "kernelspec": {
   "display_name": "Python 3.7.7 64-bit ('tf-gpu': conda)",
   "language": "python",
   "name": "python37764bittfgpuconda694d5d2236d443609d6f0ee048a10332"
  },
  "language_info": {
   "codemirror_mode": {
    "name": "ipython",
    "version": 3
   },
   "file_extension": ".py",
   "mimetype": "text/x-python",
   "name": "python",
   "nbconvert_exporter": "python",
   "pygments_lexer": "ipython3",
   "version": "3.7.7"
  }
 },
 "nbformat": 4,
 "nbformat_minor": 4
}
